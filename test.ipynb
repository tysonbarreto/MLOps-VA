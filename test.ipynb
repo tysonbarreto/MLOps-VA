{
 "cells": [
  {
   "cell_type": "code",
   "execution_count": 2,
   "metadata": {},
   "outputs": [],
   "source": [
    "import os\n",
    "from pathlib import Path"
   ]
  },
  {
   "cell_type": "code",
   "execution_count": 28,
   "metadata": {},
   "outputs": [],
   "source": [
    "PROJECT_NAME = 'VA'\n",
    "\n",
    "list_of_files = [\n",
    "    f\"{PROJECT_NAME}/__init__.py\",\n",
    "    f\"{PROJECT_NAME}/components/__init__.py\",\n",
    "    f\"{PROJECT_NAME}/components/data_ingestion.py\",\n",
    "    f\"{PROJECT_NAME}/components/data_transformation.py\",\n",
    "    f\"{PROJECT_NAME}/components/data_validation.py\",\n",
    "    f\"{PROJECT_NAME}/components/model_trainer.py\",\n",
    "    f\"{PROJECT_NAME}/components/model_evaluation.py\",\n",
    "    f\"{PROJECT_NAME}/entity/__init__.py\",\n",
    "    f\"{PROJECT_NAME}/config/__init__.py\",\n",
    "    f\"{PROJECT_NAME}/config/configuration.py\",\n",
    "    f\"{PROJECT_NAME}/utils/__init__.py\",\n",
    "    f\"{PROJECT_NAME}/utils/utils.py\",\n",
    "    f\"{PROJECT_NAME}/exception/__init__.py\",\n",
    "    f\"{PROJECT_NAME}/logger/__init__.py\",\n",
    "    \"app.py\",\n",
    "    \"requirements.txt\",\n",
    "    \"Dockerfile\",\n",
    "    \".dockerignore\",\n",
    "    \"setup.py\",\n",
    "    \"config/model.yaml\",\n",
    "    \"config/schema.yaml\"\n",
    "]"
   ]
  },
  {
   "cell_type": "code",
   "execution_count": 29,
   "metadata": {},
   "outputs": [],
   "source": [
    "for files in list_of_files:\n",
    "    filepath = Path(files)\n",
    "    filedir, filename = os.path.split(filepath)\n",
    "    \n",
    "    if filedir !=\"\":\n",
    "        os.makedirs(filedir, exist_ok=True)\n",
    "    if (not os.path.exists(filepath)) or (os.path.getsize(filepath)==0):\n",
    "        with open(filepath,'w') as f:\n",
    "            pass\n",
    "    else:\n",
    "        print(f\"File is already present at {filepath}\")"
   ]
  },
  {
   "cell_type": "code",
   "execution_count": 48,
   "metadata": {},
   "outputs": [],
   "source": [
    "import setuptools\n",
    "\n",
    "with open(\"README.md\",\"r\",encoding = \"utf-8\") as f:\n",
    "    DESC = f.read()\n",
    "\n",
    "PCK_DESC = \"Python packages for VA\"\n",
    "__version__=\"0.0.0\"\n",
    "SRC_REPO = \"VA\"\n",
    "REPO_NAME = \"MLOps-VA\"\n",
    "AUTHOR_EMAIL = \"tysonbarretto1991@gmail.com\"\n",
    "AUTHOR_NAME = \"tysonbarreto\"\n"
   ]
  },
  {
   "cell_type": "code",
   "execution_count": null,
   "metadata": {},
   "outputs": [],
   "source": [
    "setuptools.setup(\n",
    "    name=SRC_REPO,\n",
    "    version=__version__,\n",
    "    author=AUTHOR_NAME,\n",
    "    author_email=AUTHOR_EMAIL,\n",
    "    description=PCK_DESC,\n",
    "    long_description=DESC,\n",
    "    long_description_content_type=\"text/markdown\",\n",
    "    url=f\"https://github.com/{AUTHOR_NAME}/{REPO_NAME}\",\n",
    "    project_urls={\n",
    "        \"Bugs Tracker\": f\"https://github.com/{AUTHOR_NAME}/{REPO_NAME}/issues\"\n",
    "    },\n",
    "    package_dir = {\"\":\"VA\"},\n",
    "    packages = setuptools.find_packages(where = \"VA\")\n",
    ")"
   ]
  },
  {
   "cell_type": "code",
   "execution_count": 2,
   "metadata": {},
   "outputs": [],
   "source": [
    "import os\n"
   ]
  },
  {
   "cell_type": "code",
   "execution_count": null,
   "metadata": {},
   "outputs": [],
   "source": [
    "import logging\n",
    "import os\n",
    "import sys\n",
    "from pathlib import Path\n",
    "\n",
    "from from_root import from_root\n",
    "from datetime import datetime\n",
    "\n",
    "\n",
    "#LOG_FILE_EXT = f\"{datetime.now().strftime('%Y_%m_%d_%H_%M_%S')}.log\"\n",
    "\n",
    "LOG_FILE_EXT = f\"{datetime.now().strftime('%Y_%m_%d_%H_%M_%S')}.log\"\n",
    "\n",
    "LOG_DIR = \"logs\"\n",
    "\n",
    "LOG_PATH = os.path.join(LOG_DIR,LOG_FILE_EXT)\n",
    "\n",
    "LOG_STR = \"[%(asctime)s] %(levelname)s - %(module)s - %(message)s\"\n",
    "\n",
    "os.makedirs(LOG_PATH, exist_ok=True)\n",
    "\n",
    "logging.basicConfig(\n",
    "    level=logging.INFO,\n",
    "    format=LOG_STR,\n",
    "    handlers=[\n",
    "        logging.FileHandler(LOG_PATH),\n",
    "        logging.StreamHandler(sys.stdout)\n",
    "    ]\n",
    ")\n",
    "\n",
    "logger = logging.info(\"VALogger\")"
   ]
  },
  {
   "cell_type": "code",
   "execution_count": 4,
   "metadata": {},
   "outputs": [
    {
     "ename": "NameError",
     "evalue": "name 'LOG_DIR' is not defined",
     "output_type": "error",
     "traceback": [
      "\u001b[1;31m---------------------------------------------------------------------------\u001b[0m",
      "\u001b[1;31mNameError\u001b[0m                                 Traceback (most recent call last)",
      "Cell \u001b[1;32mIn[4], line 1\u001b[0m\n\u001b[1;32m----> 1\u001b[0m os\u001b[38;5;241m.\u001b[39mpath\u001b[38;5;241m.\u001b[39mjoin(\u001b[43mLOG_DIR\u001b[49m,LOG_FILE_EXT)\n",
      "\u001b[1;31mNameError\u001b[0m: name 'LOG_DIR' is not defined"
     ]
    }
   ],
   "source": [
    "os.path.join(LOG_DIR,LOG_FILE_EXT)"
   ]
  },
  {
   "cell_type": "code",
   "execution_count": 41,
   "metadata": {},
   "outputs": [],
   "source": [
    "try:\n",
    "    int('Hi')\n",
    "except Exception as e:\n",
    "    x= sys.exc_info()\n",
    "    #raise e\n",
    "    print(x)"
   ]
  },
  {
   "cell_type": "code",
   "execution_count": 25,
   "metadata": {},
   "outputs": [],
   "source": [
    "import os\n",
    "import sys\n",
    "\n",
    "def error_message_detail(error, error_detail:sys):\n",
    "    _, _, exc_tb = error_detail.exc_info() # traceback\n",
    "    file_name = exc_tb.tb_frame.f_code.co_filename\n",
    "    error_message = \"Error occurred python script name [{0}] line number [{1}] error message [{2}]\".format(\n",
    "        file_name, exc_tb.tb_lineno, str(error)\n",
    "    )\n",
    "\n",
    "    return error_message\n",
    "\n",
    "class VAException(Exception):\n",
    "    def __init__(self, error_message, error_detail):\n",
    "        \"\"\"\n",
    "        :param error_message: error message in string format\n",
    "        \"\"\"\n",
    "        super().__init__(error_message)\n",
    "        self.error_message = error_message_detail(\n",
    "            error_message, error_detail=error_detail\n",
    "        )\n",
    "\n",
    "    def __str__(self):\n",
    "        return self.error_message"
   ]
  },
  {
   "cell_type": "code",
   "execution_count": null,
   "metadata": {},
   "outputs": [],
   "source": [
    "x[2].tb_frame.f_code.co_filename"
   ]
  },
  {
   "cell_type": "code",
   "execution_count": 49,
   "metadata": {},
   "outputs": [
    {
     "data": {
      "text/plain": [
       "2"
      ]
     },
     "execution_count": 49,
     "metadata": {},
     "output_type": "execute_result"
    }
   ],
   "source": [
    "x[2]."
   ]
  }
 ],
 "metadata": {
  "kernelspec": {
   "display_name": "venv",
   "language": "python",
   "name": "python3"
  },
  "language_info": {
   "codemirror_mode": {
    "name": "ipython",
    "version": 3
   },
   "file_extension": ".py",
   "mimetype": "text/x-python",
   "name": "python",
   "nbconvert_exporter": "python",
   "pygments_lexer": "ipython3",
   "version": "3.8.19"
  }
 },
 "nbformat": 4,
 "nbformat_minor": 2
}
